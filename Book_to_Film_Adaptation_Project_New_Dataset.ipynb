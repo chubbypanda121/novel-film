{
  "nbformat": 4,
  "nbformat_minor": 0,
  "metadata": {
    "colab": {
      "provenance": []
    },
    "kernelspec": {
      "name": "python3",
      "display_name": "Python 3"
    },
    "language_info": {
      "name": "python"
    }
  },
  "cells": [
    {
      "cell_type": "markdown",
      "source": [
        "## Set-Up"
      ],
      "metadata": {
        "id": "GQIdp9u3ecs5"
      }
    },
    {
      "cell_type": "code",
      "execution_count": 1,
      "metadata": {
        "colab": {
          "base_uri": "https://localhost:8080/"
        },
        "id": "Rcdc5sfS1Pr2",
        "outputId": "82dc91f5-0f8d-47a3-e49c-6a87bc77a54a"
      },
      "outputs": [
        {
          "output_type": "stream",
          "name": "stdout",
          "text": [
            "Mounted at /content/drive\n"
          ]
        }
      ],
      "source": [
        "# Mounting drive\n",
        "from google.colab import drive\n",
        "drive.mount('/content/drive')"
      ]
    },
    {
      "cell_type": "code",
      "source": [
        "# Importing relevant packages\n",
        "import numpy as np\n",
        "import pandas as pd\n",
        "import matplotlib.pyplot as plt\n",
        "import seaborn as sns\n",
        "import statsmodels.api as sm\n",
        "from statsmodels.stats.outliers_influence import variance_inflation_factor\n",
        "from sklearn.model_selection import train_test_split\n",
        "from sklearn.linear_model import LogisticRegression\n",
        "from sklearn.metrics import *\n",
        "from sklearn.metrics import classification_report"
      ],
      "metadata": {
        "id": "sCsGYbQK1Wni"
      },
      "execution_count": 2,
      "outputs": []
    },
    {
      "cell_type": "code",
      "source": [
        "# Importing datasets\n",
        "books = pd.read_csv('/content/drive/My Drive/Colab Data/Adaptations Project/books.csv', encoding = 'latin_1')\n",
        "movies = pd.read_csv('/content/drive/My Drive/Colab Data/Adaptations Project/222movies.csv', encoding = 'latin_1')"
      ],
      "metadata": {
        "id": "lLkXOKosSSUz"
      },
      "execution_count": 3,
      "outputs": []
    },
    {
      "cell_type": "code",
      "source": [
        "# Viewing books data\n",
        "books.head()"
      ],
      "metadata": {
        "colab": {
          "base_uri": "https://localhost:8080/",
          "height": 617
        },
        "id": "8fbaF8HIRthH",
        "outputId": "74afc749-8cc5-449f-ad50-2e4cda30a28d"
      },
      "execution_count": 4,
      "outputs": [
        {
          "output_type": "execute_result",
          "data": {
            "text/plain": [
              "                                       title           author  book_rating  \\\n",
              "0                           The Hunger Games  Suzanne Collins         4.33   \n",
              "1  Harry Potter and the Order of the Phoenix     J.K. Rowling         4.50   \n",
              "2                      To Kill a Mockingbird       Harper Lee         4.28   \n",
              "3                        Pride and Prejudice      Jane Austen         4.26   \n",
              "4                                   Twilight  Stephenie Meyer         3.60   \n",
              "\n",
              "                                    book_description language  \\\n",
              "0  WINNING MEANS FAME AND FORTUNE.LOSING MEANS CE...  English   \n",
              "1  There is a door at the end of a silent corrido...  English   \n",
              "2  The unforgettable novel of a childhood in a sl...  English   \n",
              "3  Alternate cover edition of ISBN 9780679783268S...  English   \n",
              "4  About three things I was absolutely positive.\\...  English   \n",
              "\n",
              "                                              genres  pages  \\\n",
              "0  ['Young Adult', 'Fiction', 'Dystopia', 'Fantas...  374.0   \n",
              "1  ['Fantasy', 'Young Adult', 'Fiction', 'Magic',...  870.0   \n",
              "2  ['Classics', 'Fiction', 'Historical Fiction', ...  324.0   \n",
              "3  ['Classics', 'Fiction', 'Romance', 'Historical...  279.0   \n",
              "4  ['Young Adult', 'Fantasy', 'Romance', 'Vampire...  501.0   \n",
              "\n",
              "                          publisher publish_date  \\\n",
              "0                  Scholastic Press     09/14/08   \n",
              "1                   Scholastic Inc.     06/21/03   \n",
              "2  Harper Perennial Modern Classics   07/11/1960   \n",
              "3                    Modern Library     01/28/13   \n",
              "4         Little, Brown and Company   10/05/2005   \n",
              "\n",
              "                                              awards  book_ratings_count  \\\n",
              "0  ['Locus Award Nominee for Best Young Adult Boo...             6376780   \n",
              "1  ['Bram Stoker Award for Works for Young Reader...             2507623   \n",
              "2  ['Pulitzer Prize for Fiction (1961)', 'Audie A...             4501075   \n",
              "3                                                 []             2998241   \n",
              "4  ['Georgia Peach Book Award (2007)', 'Buxtehude...             4964519   \n",
              "\n",
              "   book_liked_percentage firstPublishDate publish_date.1  \n",
              "0                   96.0              NaN       09/14/08  \n",
              "1                   98.0         06/21/03       09/28/04  \n",
              "2                   95.0       07/11/1960       05/23/06  \n",
              "3                   94.0         01/28/13     10/10/2000  \n",
              "4                   78.0       10/05/2005     09/06/2006  "
            ],
            "text/html": [
              "\n",
              "  <div id=\"df-54aab489-b567-46ac-92d0-260810a057f3\">\n",
              "    <div class=\"colab-df-container\">\n",
              "      <div>\n",
              "<style scoped>\n",
              "    .dataframe tbody tr th:only-of-type {\n",
              "        vertical-align: middle;\n",
              "    }\n",
              "\n",
              "    .dataframe tbody tr th {\n",
              "        vertical-align: top;\n",
              "    }\n",
              "\n",
              "    .dataframe thead th {\n",
              "        text-align: right;\n",
              "    }\n",
              "</style>\n",
              "<table border=\"1\" class=\"dataframe\">\n",
              "  <thead>\n",
              "    <tr style=\"text-align: right;\">\n",
              "      <th></th>\n",
              "      <th>title</th>\n",
              "      <th>author</th>\n",
              "      <th>book_rating</th>\n",
              "      <th>book_description</th>\n",
              "      <th>language</th>\n",
              "      <th>genres</th>\n",
              "      <th>pages</th>\n",
              "      <th>publisher</th>\n",
              "      <th>publish_date</th>\n",
              "      <th>awards</th>\n",
              "      <th>book_ratings_count</th>\n",
              "      <th>book_liked_percentage</th>\n",
              "      <th>firstPublishDate</th>\n",
              "      <th>publish_date.1</th>\n",
              "    </tr>\n",
              "  </thead>\n",
              "  <tbody>\n",
              "    <tr>\n",
              "      <th>0</th>\n",
              "      <td>The Hunger Games</td>\n",
              "      <td>Suzanne Collins</td>\n",
              "      <td>4.33</td>\n",
              "      <td>WINNING MEANS FAME AND FORTUNE.LOSING MEANS CE...</td>\n",
              "      <td>English</td>\n",
              "      <td>['Young Adult', 'Fiction', 'Dystopia', 'Fantas...</td>\n",
              "      <td>374.0</td>\n",
              "      <td>Scholastic Press</td>\n",
              "      <td>09/14/08</td>\n",
              "      <td>['Locus Award Nominee for Best Young Adult Boo...</td>\n",
              "      <td>6376780</td>\n",
              "      <td>96.0</td>\n",
              "      <td>NaN</td>\n",
              "      <td>09/14/08</td>\n",
              "    </tr>\n",
              "    <tr>\n",
              "      <th>1</th>\n",
              "      <td>Harry Potter and the Order of the Phoenix</td>\n",
              "      <td>J.K. Rowling</td>\n",
              "      <td>4.50</td>\n",
              "      <td>There is a door at the end of a silent corrido...</td>\n",
              "      <td>English</td>\n",
              "      <td>['Fantasy', 'Young Adult', 'Fiction', 'Magic',...</td>\n",
              "      <td>870.0</td>\n",
              "      <td>Scholastic Inc.</td>\n",
              "      <td>06/21/03</td>\n",
              "      <td>['Bram Stoker Award for Works for Young Reader...</td>\n",
              "      <td>2507623</td>\n",
              "      <td>98.0</td>\n",
              "      <td>06/21/03</td>\n",
              "      <td>09/28/04</td>\n",
              "    </tr>\n",
              "    <tr>\n",
              "      <th>2</th>\n",
              "      <td>To Kill a Mockingbird</td>\n",
              "      <td>Harper Lee</td>\n",
              "      <td>4.28</td>\n",
              "      <td>The unforgettable novel of a childhood in a sl...</td>\n",
              "      <td>English</td>\n",
              "      <td>['Classics', 'Fiction', 'Historical Fiction', ...</td>\n",
              "      <td>324.0</td>\n",
              "      <td>Harper Perennial Modern Classics</td>\n",
              "      <td>07/11/1960</td>\n",
              "      <td>['Pulitzer Prize for Fiction (1961)', 'Audie A...</td>\n",
              "      <td>4501075</td>\n",
              "      <td>95.0</td>\n",
              "      <td>07/11/1960</td>\n",
              "      <td>05/23/06</td>\n",
              "    </tr>\n",
              "    <tr>\n",
              "      <th>3</th>\n",
              "      <td>Pride and Prejudice</td>\n",
              "      <td>Jane Austen</td>\n",
              "      <td>4.26</td>\n",
              "      <td>Alternate cover edition of ISBN 9780679783268S...</td>\n",
              "      <td>English</td>\n",
              "      <td>['Classics', 'Fiction', 'Romance', 'Historical...</td>\n",
              "      <td>279.0</td>\n",
              "      <td>Modern Library</td>\n",
              "      <td>01/28/13</td>\n",
              "      <td>[]</td>\n",
              "      <td>2998241</td>\n",
              "      <td>94.0</td>\n",
              "      <td>01/28/13</td>\n",
              "      <td>10/10/2000</td>\n",
              "    </tr>\n",
              "    <tr>\n",
              "      <th>4</th>\n",
              "      <td>Twilight</td>\n",
              "      <td>Stephenie Meyer</td>\n",
              "      <td>3.60</td>\n",
              "      <td>About three things I was absolutely positive.\\...</td>\n",
              "      <td>English</td>\n",
              "      <td>['Young Adult', 'Fantasy', 'Romance', 'Vampire...</td>\n",
              "      <td>501.0</td>\n",
              "      <td>Little, Brown and Company</td>\n",
              "      <td>10/05/2005</td>\n",
              "      <td>['Georgia Peach Book Award (2007)', 'Buxtehude...</td>\n",
              "      <td>4964519</td>\n",
              "      <td>78.0</td>\n",
              "      <td>10/05/2005</td>\n",
              "      <td>09/06/2006</td>\n",
              "    </tr>\n",
              "  </tbody>\n",
              "</table>\n",
              "</div>\n",
              "      <button class=\"colab-df-convert\" onclick=\"convertToInteractive('df-54aab489-b567-46ac-92d0-260810a057f3')\"\n",
              "              title=\"Convert this dataframe to an interactive table.\"\n",
              "              style=\"display:none;\">\n",
              "        \n",
              "  <svg xmlns=\"http://www.w3.org/2000/svg\" height=\"24px\"viewBox=\"0 0 24 24\"\n",
              "       width=\"24px\">\n",
              "    <path d=\"M0 0h24v24H0V0z\" fill=\"none\"/>\n",
              "    <path d=\"M18.56 5.44l.94 2.06.94-2.06 2.06-.94-2.06-.94-.94-2.06-.94 2.06-2.06.94zm-11 1L8.5 8.5l.94-2.06 2.06-.94-2.06-.94L8.5 2.5l-.94 2.06-2.06.94zm10 10l.94 2.06.94-2.06 2.06-.94-2.06-.94-.94-2.06-.94 2.06-2.06.94z\"/><path d=\"M17.41 7.96l-1.37-1.37c-.4-.4-.92-.59-1.43-.59-.52 0-1.04.2-1.43.59L10.3 9.45l-7.72 7.72c-.78.78-.78 2.05 0 2.83L4 21.41c.39.39.9.59 1.41.59.51 0 1.02-.2 1.41-.59l7.78-7.78 2.81-2.81c.8-.78.8-2.07 0-2.86zM5.41 20L4 18.59l7.72-7.72 1.47 1.35L5.41 20z\"/>\n",
              "  </svg>\n",
              "      </button>\n",
              "      \n",
              "  <style>\n",
              "    .colab-df-container {\n",
              "      display:flex;\n",
              "      flex-wrap:wrap;\n",
              "      gap: 12px;\n",
              "    }\n",
              "\n",
              "    .colab-df-convert {\n",
              "      background-color: #E8F0FE;\n",
              "      border: none;\n",
              "      border-radius: 50%;\n",
              "      cursor: pointer;\n",
              "      display: none;\n",
              "      fill: #1967D2;\n",
              "      height: 32px;\n",
              "      padding: 0 0 0 0;\n",
              "      width: 32px;\n",
              "    }\n",
              "\n",
              "    .colab-df-convert:hover {\n",
              "      background-color: #E2EBFA;\n",
              "      box-shadow: 0px 1px 2px rgba(60, 64, 67, 0.3), 0px 1px 3px 1px rgba(60, 64, 67, 0.15);\n",
              "      fill: #174EA6;\n",
              "    }\n",
              "\n",
              "    [theme=dark] .colab-df-convert {\n",
              "      background-color: #3B4455;\n",
              "      fill: #D2E3FC;\n",
              "    }\n",
              "\n",
              "    [theme=dark] .colab-df-convert:hover {\n",
              "      background-color: #434B5C;\n",
              "      box-shadow: 0px 1px 3px 1px rgba(0, 0, 0, 0.15);\n",
              "      filter: drop-shadow(0px 1px 2px rgba(0, 0, 0, 0.3));\n",
              "      fill: #FFFFFF;\n",
              "    }\n",
              "  </style>\n",
              "\n",
              "      <script>\n",
              "        const buttonEl =\n",
              "          document.querySelector('#df-54aab489-b567-46ac-92d0-260810a057f3 button.colab-df-convert');\n",
              "        buttonEl.style.display =\n",
              "          google.colab.kernel.accessAllowed ? 'block' : 'none';\n",
              "\n",
              "        async function convertToInteractive(key) {\n",
              "          const element = document.querySelector('#df-54aab489-b567-46ac-92d0-260810a057f3');\n",
              "          const dataTable =\n",
              "            await google.colab.kernel.invokeFunction('convertToInteractive',\n",
              "                                                     [key], {});\n",
              "          if (!dataTable) return;\n",
              "\n",
              "          const docLinkHtml = 'Like what you see? Visit the ' +\n",
              "            '<a target=\"_blank\" href=https://colab.research.google.com/notebooks/data_table.ipynb>data table notebook</a>'\n",
              "            + ' to learn more about interactive tables.';\n",
              "          element.innerHTML = '';\n",
              "          dataTable['output_type'] = 'display_data';\n",
              "          await google.colab.output.renderOutput(dataTable, element);\n",
              "          const docLink = document.createElement('div');\n",
              "          docLink.innerHTML = docLinkHtml;\n",
              "          element.appendChild(docLink);\n",
              "        }\n",
              "      </script>\n",
              "    </div>\n",
              "  </div>\n",
              "  "
            ]
          },
          "metadata": {},
          "execution_count": 4
        }
      ]
    },
    {
      "cell_type": "code",
      "source": [
        "# Viewing movies data\n",
        "movies.head()"
      ],
      "metadata": {
        "colab": {
          "base_uri": "https://localhost:8080/",
          "height": 206
        },
        "id": "EER1QseMBKWE",
        "outputId": "6931d49e-553b-4f1b-b51a-dc6bf062057b"
      },
      "execution_count": 5,
      "outputs": [
        {
          "output_type": "execute_result",
          "data": {
            "text/plain": [
              "                                            title movie_genre  movie_year  \\\n",
              "0                                     The Shining       Drama        1980   \n",
              "1                                 The Blue Lagoon   Adventure        1980   \n",
              "2  Star Wars: Episode V - The Empire Strikes Back      Action        1980   \n",
              "3                                       Airplane!      Comedy        1980   \n",
              "4                                      Caddyshack      Comedy        1980   \n",
              "\n",
              "   movie_rating  movie_ratings_count   box_office             company  runtime  \n",
              "0           8.4             927000.0   46998772.0        Warner Bros.    146.0  \n",
              "1           5.8              65000.0   58853106.0   Columbia Pictures    104.0  \n",
              "2           8.7            1200000.0  538375067.0           Lucasfilm    124.0  \n",
              "3           7.7             221000.0   83453539.0  Paramount Pictures     88.0  \n",
              "4           7.3             108000.0   39846344.0      Orion Pictures     98.0  "
            ],
            "text/html": [
              "\n",
              "  <div id=\"df-c4c40a9c-abbb-4039-8919-adb663f67d0e\">\n",
              "    <div class=\"colab-df-container\">\n",
              "      <div>\n",
              "<style scoped>\n",
              "    .dataframe tbody tr th:only-of-type {\n",
              "        vertical-align: middle;\n",
              "    }\n",
              "\n",
              "    .dataframe tbody tr th {\n",
              "        vertical-align: top;\n",
              "    }\n",
              "\n",
              "    .dataframe thead th {\n",
              "        text-align: right;\n",
              "    }\n",
              "</style>\n",
              "<table border=\"1\" class=\"dataframe\">\n",
              "  <thead>\n",
              "    <tr style=\"text-align: right;\">\n",
              "      <th></th>\n",
              "      <th>title</th>\n",
              "      <th>movie_genre</th>\n",
              "      <th>movie_year</th>\n",
              "      <th>movie_rating</th>\n",
              "      <th>movie_ratings_count</th>\n",
              "      <th>box_office</th>\n",
              "      <th>company</th>\n",
              "      <th>runtime</th>\n",
              "    </tr>\n",
              "  </thead>\n",
              "  <tbody>\n",
              "    <tr>\n",
              "      <th>0</th>\n",
              "      <td>The Shining</td>\n",
              "      <td>Drama</td>\n",
              "      <td>1980</td>\n",
              "      <td>8.4</td>\n",
              "      <td>927000.0</td>\n",
              "      <td>46998772.0</td>\n",
              "      <td>Warner Bros.</td>\n",
              "      <td>146.0</td>\n",
              "    </tr>\n",
              "    <tr>\n",
              "      <th>1</th>\n",
              "      <td>The Blue Lagoon</td>\n",
              "      <td>Adventure</td>\n",
              "      <td>1980</td>\n",
              "      <td>5.8</td>\n",
              "      <td>65000.0</td>\n",
              "      <td>58853106.0</td>\n",
              "      <td>Columbia Pictures</td>\n",
              "      <td>104.0</td>\n",
              "    </tr>\n",
              "    <tr>\n",
              "      <th>2</th>\n",
              "      <td>Star Wars: Episode V - The Empire Strikes Back</td>\n",
              "      <td>Action</td>\n",
              "      <td>1980</td>\n",
              "      <td>8.7</td>\n",
              "      <td>1200000.0</td>\n",
              "      <td>538375067.0</td>\n",
              "      <td>Lucasfilm</td>\n",
              "      <td>124.0</td>\n",
              "    </tr>\n",
              "    <tr>\n",
              "      <th>3</th>\n",
              "      <td>Airplane!</td>\n",
              "      <td>Comedy</td>\n",
              "      <td>1980</td>\n",
              "      <td>7.7</td>\n",
              "      <td>221000.0</td>\n",
              "      <td>83453539.0</td>\n",
              "      <td>Paramount Pictures</td>\n",
              "      <td>88.0</td>\n",
              "    </tr>\n",
              "    <tr>\n",
              "      <th>4</th>\n",
              "      <td>Caddyshack</td>\n",
              "      <td>Comedy</td>\n",
              "      <td>1980</td>\n",
              "      <td>7.3</td>\n",
              "      <td>108000.0</td>\n",
              "      <td>39846344.0</td>\n",
              "      <td>Orion Pictures</td>\n",
              "      <td>98.0</td>\n",
              "    </tr>\n",
              "  </tbody>\n",
              "</table>\n",
              "</div>\n",
              "      <button class=\"colab-df-convert\" onclick=\"convertToInteractive('df-c4c40a9c-abbb-4039-8919-adb663f67d0e')\"\n",
              "              title=\"Convert this dataframe to an interactive table.\"\n",
              "              style=\"display:none;\">\n",
              "        \n",
              "  <svg xmlns=\"http://www.w3.org/2000/svg\" height=\"24px\"viewBox=\"0 0 24 24\"\n",
              "       width=\"24px\">\n",
              "    <path d=\"M0 0h24v24H0V0z\" fill=\"none\"/>\n",
              "    <path d=\"M18.56 5.44l.94 2.06.94-2.06 2.06-.94-2.06-.94-.94-2.06-.94 2.06-2.06.94zm-11 1L8.5 8.5l.94-2.06 2.06-.94-2.06-.94L8.5 2.5l-.94 2.06-2.06.94zm10 10l.94 2.06.94-2.06 2.06-.94-2.06-.94-.94-2.06-.94 2.06-2.06.94z\"/><path d=\"M17.41 7.96l-1.37-1.37c-.4-.4-.92-.59-1.43-.59-.52 0-1.04.2-1.43.59L10.3 9.45l-7.72 7.72c-.78.78-.78 2.05 0 2.83L4 21.41c.39.39.9.59 1.41.59.51 0 1.02-.2 1.41-.59l7.78-7.78 2.81-2.81c.8-.78.8-2.07 0-2.86zM5.41 20L4 18.59l7.72-7.72 1.47 1.35L5.41 20z\"/>\n",
              "  </svg>\n",
              "      </button>\n",
              "      \n",
              "  <style>\n",
              "    .colab-df-container {\n",
              "      display:flex;\n",
              "      flex-wrap:wrap;\n",
              "      gap: 12px;\n",
              "    }\n",
              "\n",
              "    .colab-df-convert {\n",
              "      background-color: #E8F0FE;\n",
              "      border: none;\n",
              "      border-radius: 50%;\n",
              "      cursor: pointer;\n",
              "      display: none;\n",
              "      fill: #1967D2;\n",
              "      height: 32px;\n",
              "      padding: 0 0 0 0;\n",
              "      width: 32px;\n",
              "    }\n",
              "\n",
              "    .colab-df-convert:hover {\n",
              "      background-color: #E2EBFA;\n",
              "      box-shadow: 0px 1px 2px rgba(60, 64, 67, 0.3), 0px 1px 3px 1px rgba(60, 64, 67, 0.15);\n",
              "      fill: #174EA6;\n",
              "    }\n",
              "\n",
              "    [theme=dark] .colab-df-convert {\n",
              "      background-color: #3B4455;\n",
              "      fill: #D2E3FC;\n",
              "    }\n",
              "\n",
              "    [theme=dark] .colab-df-convert:hover {\n",
              "      background-color: #434B5C;\n",
              "      box-shadow: 0px 1px 3px 1px rgba(0, 0, 0, 0.15);\n",
              "      filter: drop-shadow(0px 1px 2px rgba(0, 0, 0, 0.3));\n",
              "      fill: #FFFFFF;\n",
              "    }\n",
              "  </style>\n",
              "\n",
              "      <script>\n",
              "        const buttonEl =\n",
              "          document.querySelector('#df-c4c40a9c-abbb-4039-8919-adb663f67d0e button.colab-df-convert');\n",
              "        buttonEl.style.display =\n",
              "          google.colab.kernel.accessAllowed ? 'block' : 'none';\n",
              "\n",
              "        async function convertToInteractive(key) {\n",
              "          const element = document.querySelector('#df-c4c40a9c-abbb-4039-8919-adb663f67d0e');\n",
              "          const dataTable =\n",
              "            await google.colab.kernel.invokeFunction('convertToInteractive',\n",
              "                                                     [key], {});\n",
              "          if (!dataTable) return;\n",
              "\n",
              "          const docLinkHtml = 'Like what you see? Visit the ' +\n",
              "            '<a target=\"_blank\" href=https://colab.research.google.com/notebooks/data_table.ipynb>data table notebook</a>'\n",
              "            + ' to learn more about interactive tables.';\n",
              "          element.innerHTML = '';\n",
              "          dataTable['output_type'] = 'display_data';\n",
              "          await google.colab.output.renderOutput(dataTable, element);\n",
              "          const docLink = document.createElement('div');\n",
              "          docLink.innerHTML = docLinkHtml;\n",
              "          element.appendChild(docLink);\n",
              "        }\n",
              "      </script>\n",
              "    </div>\n",
              "  </div>\n",
              "  "
            ]
          },
          "metadata": {},
          "execution_count": 5
        }
      ]
    },
    {
      "cell_type": "markdown",
      "source": [
        "## Pre-processing"
      ],
      "metadata": {
        "id": "DJtGKpnadXOI"
      }
    },
    {
      "cell_type": "code",
      "source": [
        "# Inner join books and movie data\n",
        "adaptations = pd.merge(books, movies, how=\"inner\", on=\"title\")\n",
        "adaptations.info()"
      ],
      "metadata": {
        "colab": {
          "base_uri": "https://localhost:8080/"
        },
        "id": "6O2jhLQOUO2y",
        "outputId": "8abf5e04-b324-48cb-bdf4-38294e273e14"
      },
      "execution_count": 6,
      "outputs": [
        {
          "output_type": "stream",
          "name": "stdout",
          "text": [
            "<class 'pandas.core.frame.DataFrame'>\n",
            "Int64Index: 2311 entries, 0 to 2310\n",
            "Data columns (total 21 columns):\n",
            " #   Column                 Non-Null Count  Dtype  \n",
            "---  ------                 --------------  -----  \n",
            " 0   title                  2311 non-null   object \n",
            " 1   author                 2311 non-null   object \n",
            " 2   book_rating            2311 non-null   float64\n",
            " 3   book_description       2291 non-null   object \n",
            " 4   language               2210 non-null   object \n",
            " 5   genres                 2311 non-null   object \n",
            " 6   pages                  2239 non-null   float64\n",
            " 7   publisher              2167 non-null   object \n",
            " 8   publish_date           2311 non-null   object \n",
            " 9   awards                 2311 non-null   object \n",
            " 10  book_ratings_count     2311 non-null   int64  \n",
            " 11  book_liked_percentage  2302 non-null   float64\n",
            " 12  firstPublishDate       1523 non-null   object \n",
            " 13  publish_date.1         2292 non-null   object \n",
            " 14  movie_genre            2311 non-null   object \n",
            " 15  movie_year             2311 non-null   int64  \n",
            " 16  movie_rating           2311 non-null   float64\n",
            " 17  movie_ratings_count    2311 non-null   float64\n",
            " 18  box_office             2273 non-null   float64\n",
            " 19  company                2308 non-null   object \n",
            " 20  runtime                2309 non-null   float64\n",
            "dtypes: float64(7), int64(2), object(12)\n",
            "memory usage: 397.2+ KB\n"
          ]
        }
      ]
    },
    {
      "cell_type": "code",
      "source": [
        "# Creating dummies for genre\n",
        "## Creating two categories: Fiction/ Non-Fiction\n",
        "adaptations['fiction'] = adaptations.genres.str.contains('Fiction')\n",
        "\n",
        "# Converting T/F to 0/1\n",
        "adaptations[\"fiction\"] *= 1"
      ],
      "metadata": {
        "id": "zcqdnI--CcIs"
      },
      "execution_count": 7,
      "outputs": []
    },
    {
      "cell_type": "code",
      "source": [
        "# Creating dummies for genres pt2\n",
        "## Creating two more categories: Classics/ Non-classics\n",
        "adaptations['classic'] = adaptations.genres.str.contains('Classics')\n",
        "\n",
        "# Converting T/F to 0/1\n",
        "adaptations[\"classic\"] *= 1"
      ],
      "metadata": {
        "id": "i1QShkheamvw"
      },
      "execution_count": 8,
      "outputs": []
    },
    {
      "cell_type": "code",
      "source": [
        "# Creating new column that counts number of awards to convert awards to numerical\n",
        "adaptations['awards'] = adaptations['awards'].astype(str)\n",
        "adaptations['awards_count'] = adaptations['awards'].str.split(\",\").str.len()"
      ],
      "metadata": {
        "id": "THPO9lpOCX3f"
      },
      "execution_count": 9,
      "outputs": []
    },
    {
      "cell_type": "code",
      "source": [
        "# Selecting essential categories and dropping missing values\n",
        "## The following independent variables are: book_rating (proxy for quality), fiction, pages, publish_year, awards, ratings_count (proxy for popularity)\n",
        "## The following dependent variables are: movies_rating\n",
        "adaptations_df = adaptations[['book_rating', 'pages', 'awards_count', 'book_ratings_count', 'fiction', 'classic','movie_rating']].dropna()\n",
        "\n",
        "adaptations_df.info()"
      ],
      "metadata": {
        "id": "loMa02i-VB1t",
        "colab": {
          "base_uri": "https://localhost:8080/"
        },
        "outputId": "c42da1b0-e474-485b-c1b4-2dd5ff461788"
      },
      "execution_count": 10,
      "outputs": [
        {
          "output_type": "stream",
          "name": "stdout",
          "text": [
            "<class 'pandas.core.frame.DataFrame'>\n",
            "Int64Index: 2239 entries, 0 to 2310\n",
            "Data columns (total 7 columns):\n",
            " #   Column              Non-Null Count  Dtype  \n",
            "---  ------              --------------  -----  \n",
            " 0   book_rating         2239 non-null   float64\n",
            " 1   pages               2239 non-null   float64\n",
            " 2   awards_count        2239 non-null   int64  \n",
            " 3   book_ratings_count  2239 non-null   int64  \n",
            " 4   fiction             2239 non-null   int64  \n",
            " 5   classic             2239 non-null   int64  \n",
            " 6   movie_rating        2239 non-null   float64\n",
            "dtypes: float64(3), int64(4)\n",
            "memory usage: 139.9 KB\n"
          ]
        }
      ]
    },
    {
      "cell_type": "code",
      "source": [
        "# Ensuring types are correct\n",
        "adaptations_df['pages'] = adaptations_df['pages'].astype(int)\n",
        "adaptations_df.info()"
      ],
      "metadata": {
        "colab": {
          "base_uri": "https://localhost:8080/"
        },
        "id": "3i-wCG-QdnXa",
        "outputId": "4471028d-ff21-43c1-fdf7-4f85801edb33"
      },
      "execution_count": 11,
      "outputs": [
        {
          "output_type": "stream",
          "name": "stdout",
          "text": [
            "<class 'pandas.core.frame.DataFrame'>\n",
            "Int64Index: 2239 entries, 0 to 2310\n",
            "Data columns (total 7 columns):\n",
            " #   Column              Non-Null Count  Dtype  \n",
            "---  ------              --------------  -----  \n",
            " 0   book_rating         2239 non-null   float64\n",
            " 1   pages               2239 non-null   int64  \n",
            " 2   awards_count        2239 non-null   int64  \n",
            " 3   book_ratings_count  2239 non-null   int64  \n",
            " 4   fiction             2239 non-null   int64  \n",
            " 5   classic             2239 non-null   int64  \n",
            " 6   movie_rating        2239 non-null   float64\n",
            "dtypes: float64(2), int64(5)\n",
            "memory usage: 139.9 KB\n"
          ]
        }
      ]
    },
    {
      "cell_type": "code",
      "source": [
        "# Separating dependent from independent variable\n",
        "adaptations_x = adaptations_df[['book_rating', 'pages', 'awards_count', 'book_ratings_count', 'fiction', 'classic']]\n",
        "adaptations_x.head()\n",
        "\n",
        "adaptations_y = adaptations_df[['movie_rating']]"
      ],
      "metadata": {
        "id": "d5CuO_ZOcu1d"
      },
      "execution_count": 12,
      "outputs": []
    },
    {
      "cell_type": "code",
      "source": [
        "# Splitting data into test and train (70-30)\n",
        "train, test = train_test_split(adaptations_df, test_size = 0.3, random_state = 1)"
      ],
      "metadata": {
        "id": "meyvEIXngvxk"
      },
      "execution_count": 13,
      "outputs": []
    },
    {
      "cell_type": "markdown",
      "source": [
        "## Model 1: Linear Regression of Movie Rating"
      ],
      "metadata": {
        "id": "rB458Gr5YlFn"
      }
    },
    {
      "cell_type": "code",
      "source": [
        "# Creating a correlation matrix\n",
        "## book_rating/ classic seems most correlated with movie_rating\n",
        "corr_mat = train.corr()\n",
        "plt.figure(figsize=(14,7))\n",
        "sns.heatmap(corr_mat,annot=True,vmin=-1,vmax=1,cmap='RdBu');"
      ],
      "metadata": {
        "colab": {
          "base_uri": "https://localhost:8080/",
          "height": 605
        },
        "id": "WVAWxqako2Fy",
        "outputId": "4fe08ebb-7346-4ce8-a67d-e48ee72405f2"
      },
      "execution_count": 14,
      "outputs": [
        {
          "output_type": "display_data",
          "data": {
            "text/plain": [
              "<Figure size 1400x700 with 2 Axes>"
            ],
            "image/png": "[encoded data removed]"
          },
          "metadata": {}
        }
      ]
    },
    {
      "cell_type": "code",
      "source": [
        "# Checking for multicollinearity using VIF\n",
        "\n",
        "vif = pd.DataFrame()\n",
        "vif['variable'] = adaptations_x.columns\n",
        "vif['VIF'] = [variance_inflation_factor(adaptations_x.values, i) for i in range(adaptations_x.shape[1])]\n",
        "print(vif)\n",
        "\n",
        "## book_rating and pages have VIF over 4 but I will only remove book_rating first"
      ],
      "metadata": {
        "colab": {
          "base_uri": "https://localhost:8080/"
        },
        "id": "VCPUIsjfdUso",
        "outputId": "ab25c3a0-cd35-4f07-b6e1-6c51fef56f98"
      },
      "execution_count": 15,
      "outputs": [
        {
          "output_type": "stream",
          "name": "stdout",
          "text": [
            "             variable       VIF\n",
            "0         book_rating  9.586134\n",
            "1               pages  4.886737\n",
            "2        awards_count  2.191682\n",
            "3  book_ratings_count  1.693905\n",
            "4             fiction  6.490587\n",
            "5             classic  1.354692\n"
          ]
        }
      ]
    },
    {
      "cell_type": "code",
      "source": [
        "# Re-defining x variables to remove book_rating\n",
        "\n",
        "adaptations_x2 = adaptations_df[['awards_count', 'pages', 'book_ratings_count', 'fiction', 'classic']]\n",
        "\n",
        "vif2 = pd.DataFrame()\n",
        "vif2['variable'] = adaptations_x2.columns\n",
        "vif2['VIF'] = [variance_inflation_factor(adaptations_x2.values, i) for i in range(adaptations_x2.shape[1])]\n",
        "print(vif2)\n",
        "\n",
        "## VIF of all variables are under 4"
      ],
      "metadata": {
        "colab": {
          "base_uri": "https://localhost:8080/"
        },
        "id": "LKJArWcYfRHJ",
        "outputId": "641aba1d-c286-42f9-f729-5275dd98fefc"
      },
      "execution_count": 16,
      "outputs": [
        {
          "output_type": "stream",
          "name": "stdout",
          "text": [
            "             variable       VIF\n",
            "0        awards_count  2.122256\n",
            "1               pages  3.307156\n",
            "2  book_ratings_count  1.667054\n",
            "3             fiction  3.852137\n",
            "4             classic  1.332336\n"
          ]
        }
      ]
    },
    {
      "cell_type": "code",
      "source": [
        "# Running the base linear regression on training data\n",
        "x_linear = train[['awards_count', 'pages', 'book_ratings_count', 'fiction', 'classic']]\n",
        "x_linear_full = sm.add_constant(x_linear)\n",
        "y_linear = train['movie_rating']\n",
        "\n",
        "fit = sm.OLS(y_linear, x_linear_full).fit()\n",
        "print(fit.summary())\n",
        "\n",
        "## Too many variables have high p-values > 0.05 that removing them makes the model useless"
      ],
      "metadata": {
        "colab": {
          "base_uri": "https://localhost:8080/"
        },
        "id": "XipGaaveauMD",
        "outputId": "2bd9e722-5762-40a2-8467-6a25e32abbd3"
      },
      "execution_count": 17,
      "outputs": [
        {
          "output_type": "stream",
          "name": "stdout",
          "text": [
            "                            OLS Regression Results                            \n",
            "==============================================================================\n",
            "Dep. Variable:           movie_rating   R-squared:                       0.037\n",
            "Model:                            OLS   Adj. R-squared:                  0.034\n",
            "Method:                 Least Squares   F-statistic:                     12.08\n",
            "Date:                Sun, 28 May 2023   Prob (F-statistic):           1.70e-11\n",
            "Time:                        10:17:37   Log-Likelihood:                -2006.5\n",
            "No. Observations:                1567   AIC:                             4025.\n",
            "Df Residuals:                    1561   BIC:                             4057.\n",
            "Df Model:                           5                                         \n",
            "Covariance Type:            nonrobust                                         \n",
            "======================================================================================\n",
            "                         coef    std err          t      P>|t|      [0.025      0.975]\n",
            "--------------------------------------------------------------------------------------\n",
            "const                  6.5283      0.071     91.621      0.000       6.389       6.668\n",
            "awards_count           0.0122      0.011      1.124      0.261      -0.009       0.033\n",
            "pages              -4.174e-05      0.000     -0.340      0.734      -0.000       0.000\n",
            "book_ratings_count  9.089e-08   6.53e-08      1.392      0.164   -3.72e-08    2.19e-07\n",
            "fiction               -0.1167      0.064     -1.824      0.068      -0.242       0.009\n",
            "classic                0.3694      0.056      6.616      0.000       0.260       0.479\n",
            "==============================================================================\n",
            "Omnibus:                       36.203   Durbin-Watson:                   2.000\n",
            "Prob(Omnibus):                  0.000   Jarque-Bera (JB):               38.377\n",
            "Skew:                          -0.362   Prob(JB):                     4.64e-09\n",
            "Kurtosis:                       3.254   Cond. No.                     1.71e+06\n",
            "==============================================================================\n",
            "\n",
            "Notes:\n",
            "[1] Standard Errors assume that the covariance matrix of the errors is correctly specified.\n",
            "[2] The condition number is large, 1.71e+06. This might indicate that there are\n",
            "strong multicollinearity or other numerical problems.\n"
          ]
        }
      ]
    },
    {
      "cell_type": "code",
      "source": [
        "# Plugging test data into the model\n",
        "x_linear_test = sm.add_constant(test[['awards_count', 'pages', 'book_ratings_count', 'fiction', 'classic']])\n",
        "                            \n",
        "# Using predict method to get predicted values\n",
        "test[\"predicted_linear_reg\"] = fit.predict(x_linear_test)\n",
        "test.head()"
      ],
      "metadata": {
        "colab": {
          "base_uri": "https://localhost:8080/",
          "height": 206
        },
        "id": "vd3as8zLU3DY",
        "outputId": "4aa09f74-9598-47a1-faa5-e445ea185e7b"
      },
      "execution_count": 18,
      "outputs": [
        {
          "output_type": "execute_result",
          "data": {
            "text/plain": [
              "      book_rating  pages  awards_count  book_ratings_count  fiction  classic  \\\n",
              "791          3.57    194             8               39567        1        0   \n",
              "395          3.70    410             1               89496        1        1   \n",
              "518          3.93    281             3               95945        1        0   \n",
              "1591         4.33    512             1                 187        1        0   \n",
              "1193         4.41    314             1                3117        0        0   \n",
              "\n",
              "      movie_rating  predicted_linear_reg  \n",
              "791            6.5              6.504649  \n",
              "395            7.7              6.784219  \n",
              "518            6.1              6.445169  \n",
              "1591           7.1              6.402435  \n",
              "1193           5.6              6.527686  "
            ],
            "text/html": [
              "\n",
              "  <div id=\"df-15c87756-d6f4-4783-8f09-1d0ccf393e7c\">\n",
              "    <div class=\"colab-df-container\">\n",
              "      <div>\n",
              "<style scoped>\n",
              "    .dataframe tbody tr th:only-of-type {\n",
              "        vertical-align: middle;\n",
              "    }\n",
              "\n",
              "    .dataframe tbody tr th {\n",
              "        vertical-align: top;\n",
              "    }\n",
              "\n",
              "    .dataframe thead th {\n",
              "        text-align: right;\n",
              "    }\n",
              "</style>\n",
              "<table border=\"1\" class=\"dataframe\">\n",
              "  <thead>\n",
              "    <tr style=\"text-align: right;\">\n",
              "      <th></th>\n",
              "      <th>book_rating</th>\n",
              "      <th>pages</th>\n",
              "      <th>awards_count</th>\n",
              "      <th>book_ratings_count</th>\n",
              "      <th>fiction</th>\n",
              "      <th>classic</th>\n",
              "      <th>movie_rating</th>\n",
              "      <th>predicted_linear_reg</th>\n",
              "    </tr>\n",
              "  </thead>\n",
              "  <tbody>\n",
              "    <tr>\n",
              "      <th>791</th>\n",
              "      <td>3.57</td>\n",
              "      <td>194</td>\n",
              "      <td>8</td>\n",
              "      <td>39567</td>\n",
              "      <td>1</td>\n",
              "      <td>0</td>\n",
              "      <td>6.5</td>\n",
              "      <td>6.504649</td>\n",
              "    </tr>\n",
              "    <tr>\n",
              "      <th>395</th>\n",
              "      <td>3.70</td>\n",
              "      <td>410</td>\n",
              "      <td>1</td>\n",
              "      <td>89496</td>\n",
              "      <td>1</td>\n",
              "      <td>1</td>\n",
              "      <td>7.7</td>\n",
              "      <td>6.784219</td>\n",
              "    </tr>\n",
              "    <tr>\n",
              "      <th>518</th>\n",
              "      <td>3.93</td>\n",
              "      <td>281</td>\n",
              "      <td>3</td>\n",
              "      <td>95945</td>\n",
              "      <td>1</td>\n",
              "      <td>0</td>\n",
              "      <td>6.1</td>\n",
              "      <td>6.445169</td>\n",
              "    </tr>\n",
              "    <tr>\n",
              "      <th>1591</th>\n",
              "      <td>4.33</td>\n",
              "      <td>512</td>\n",
              "      <td>1</td>\n",
              "      <td>187</td>\n",
              "      <td>1</td>\n",
              "      <td>0</td>\n",
              "      <td>7.1</td>\n",
              "      <td>6.402435</td>\n",
              "    </tr>\n",
              "    <tr>\n",
              "      <th>1193</th>\n",
              "      <td>4.41</td>\n",
              "      <td>314</td>\n",
              "      <td>1</td>\n",
              "      <td>3117</td>\n",
              "      <td>0</td>\n",
              "      <td>0</td>\n",
              "      <td>5.6</td>\n",
              "      <td>6.527686</td>\n",
              "    </tr>\n",
              "  </tbody>\n",
              "</table>\n",
              "</div>\n",
              "      <button class=\"colab-df-convert\" onclick=\"convertToInteractive('df-15c87756-d6f4-4783-8f09-1d0ccf393e7c')\"\n",
              "              title=\"Convert this dataframe to an interactive table.\"\n",
              "              style=\"display:none;\">\n",
              "        \n",
              "  <svg xmlns=\"http://www.w3.org/2000/svg\" height=\"24px\"viewBox=\"0 0 24 24\"\n",
              "       width=\"24px\">\n",
              "    <path d=\"M0 0h24v24H0V0z\" fill=\"none\"/>\n",
              "    <path d=\"M18.56 5.44l.94 2.06.94-2.06 2.06-.94-2.06-.94-.94-2.06-.94 2.06-2.06.94zm-11 1L8.5 8.5l.94-2.06 2.06-.94-2.06-.94L8.5 2.5l-.94 2.06-2.06.94zm10 10l.94 2.06.94-2.06 2.06-.94-2.06-.94-.94-2.06-.94 2.06-2.06.94z\"/><path d=\"M17.41 7.96l-1.37-1.37c-.4-.4-.92-.59-1.43-.59-.52 0-1.04.2-1.43.59L10.3 9.45l-7.72 7.72c-.78.78-.78 2.05 0 2.83L4 21.41c.39.39.9.59 1.41.59.51 0 1.02-.2 1.41-.59l7.78-7.78 2.81-2.81c.8-.78.8-2.07 0-2.86zM5.41 20L4 18.59l7.72-7.72 1.47 1.35L5.41 20z\"/>\n",
              "  </svg>\n",
              "      </button>\n",
              "      \n",
              "  <style>\n",
              "    .colab-df-container {\n",
              "      display:flex;\n",
              "      flex-wrap:wrap;\n",
              "      gap: 12px;\n",
              "    }\n",
              "\n",
              "    .colab-df-convert {\n",
              "      background-color: #E8F0FE;\n",
              "      border: none;\n",
              "      border-radius: 50%;\n",
              "      cursor: pointer;\n",
              "      display: none;\n",
              "      fill: #1967D2;\n",
              "      height: 32px;\n",
              "      padding: 0 0 0 0;\n",
              "      width: 32px;\n",
              "    }\n",
              "\n",
              "    .colab-df-convert:hover {\n",
              "      background-color: #E2EBFA;\n",
              "      box-shadow: 0px 1px 2px rgba(60, 64, 67, 0.3), 0px 1px 3px 1px rgba(60, 64, 67, 0.15);\n",
              "      fill: #174EA6;\n",
              "    }\n",
              "\n",
              "    [theme=dark] .colab-df-convert {\n",
              "      background-color: #3B4455;\n",
              "      fill: #D2E3FC;\n",
              "    }\n",
              "\n",
              "    [theme=dark] .colab-df-convert:hover {\n",
              "      background-color: #434B5C;\n",
              "      box-shadow: 0px 1px 3px 1px rgba(0, 0, 0, 0.15);\n",
              "      filter: drop-shadow(0px 1px 2px rgba(0, 0, 0, 0.3));\n",
              "      fill: #FFFFFF;\n",
              "    }\n",
              "  </style>\n",
              "\n",
              "      <script>\n",
              "        const buttonEl =\n",
              "          document.querySelector('#df-15c87756-d6f4-4783-8f09-1d0ccf393e7c button.colab-df-convert');\n",
              "        buttonEl.style.display =\n",
              "          google.colab.kernel.accessAllowed ? 'block' : 'none';\n",
              "\n",
              "        async function convertToInteractive(key) {\n",
              "          const element = document.querySelector('#df-15c87756-d6f4-4783-8f09-1d0ccf393e7c');\n",
              "          const dataTable =\n",
              "            await google.colab.kernel.invokeFunction('convertToInteractive',\n",
              "                                                     [key], {});\n",
              "          if (!dataTable) return;\n",
              "\n",
              "          const docLinkHtml = 'Like what you see? Visit the ' +\n",
              "            '<a target=\"_blank\" href=https://colab.research.google.com/notebooks/data_table.ipynb>data table notebook</a>'\n",
              "            + ' to learn more about interactive tables.';\n",
              "          element.innerHTML = '';\n",
              "          dataTable['output_type'] = 'display_data';\n",
              "          await google.colab.output.renderOutput(dataTable, element);\n",
              "          const docLink = document.createElement('div');\n",
              "          docLink.innerHTML = docLinkHtml;\n",
              "          element.appendChild(docLink);\n",
              "        }\n",
              "      </script>\n",
              "    </div>\n",
              "  </div>\n",
              "  "
            ]
          },
          "metadata": {},
          "execution_count": 18
        }
      ]
    },
    {
      "cell_type": "code",
      "source": [
        "# Measure accuracy by computing OSR2\n",
        "print(test[['predicted_linear_reg', 'movie_rating']].corr())\n",
        "test[['movie_rating','predicted_linear_reg']].corr().iloc[0,1]**2\n",
        "\n",
        "## Evaluation: OSR2 is too small compared to R^2 and many important variables are not statistically significant\n",
        "## Therefore, I need to figure out another model to use"
      ],
      "metadata": {
        "colab": {
          "base_uri": "https://localhost:8080/"
        },
        "id": "nqREx3kjj-iO",
        "outputId": "e36c0d4d-2970-4822-d1aa-5b917d74e647"
      },
      "execution_count": 19,
      "outputs": [
        {
          "output_type": "stream",
          "name": "stdout",
          "text": [
            "                      predicted_linear_reg  movie_rating\n",
            "predicted_linear_reg              1.000000      0.097274\n",
            "movie_rating                      0.097274      1.000000\n"
          ]
        },
        {
          "output_type": "execute_result",
          "data": {
            "text/plain": [
              "0.009462317500398313"
            ]
          },
          "metadata": {},
          "execution_count": 19
        }
      ]
    },
    {
      "cell_type": "markdown",
      "source": [
        "## Model 2: Logistic Regression of Movie Rating"
      ],
      "metadata": {
        "id": "Au1NQJE_VaOT"
      }
    },
    {
      "cell_type": "code",
      "source": [
        "# Converting movie_rating to categorical\n",
        "\n",
        "adaptations_df.loc[adaptations_df['movie_rating'] < 6.5, 'movie_rating_cat'] = 0\n",
        "adaptations_df.loc[adaptations_df['movie_rating'] >= 6.5, 'movie_rating_cat'] = 1\n",
        "\n",
        "adaptations_df.head(10)\n",
        "\n",
        "## Setting the threshold at 6.5 because too many movies make 5"
      ],
      "metadata": {
        "colab": {
          "base_uri": "https://localhost:8080/",
          "height": 363
        },
        "id": "5JNRjBKBdgNB",
        "outputId": "5bc78321-1efe-4144-a75a-aa211f87bc6f"
      },
      "execution_count": 20,
      "outputs": [
        {
          "output_type": "execute_result",
          "data": {
            "text/plain": [
              "   book_rating  pages  awards_count  book_ratings_count  fiction  classic  \\\n",
              "0         4.33    374            41             6376780        1        0   \n",
              "1         4.50    870             9             2507623        1        1   \n",
              "2         4.26    279             1             2998241        1        1   \n",
              "3         3.60    501            25             4964519        1        0   \n",
              "4         3.60    501            25             4964519        1        0   \n",
              "5         4.24    312             1               38683        1        0   \n",
              "6         4.24    312             1               38683        1        0   \n",
              "7         4.32    320             1               21125        1        0   \n",
              "8         4.32    320             1               21125        1        0   \n",
              "9         3.94    224             1                2402        1        0   \n",
              "\n",
              "   movie_rating  movie_rating_cat  \n",
              "0           7.2               1.0  \n",
              "1           7.5               1.0  \n",
              "2           5.1               0.0  \n",
              "3           6.2               0.0  \n",
              "4           5.2               0.0  \n",
              "5           6.2               0.0  \n",
              "6           5.2               0.0  \n",
              "7           6.2               0.0  \n",
              "8           5.2               0.0  \n",
              "9           6.2               0.0  "
            ],
            "text/html": [
              "\n",
              "  <div id=\"df-37141e3d-3500-47c8-9b79-24b8037df4a0\">\n",
              "    <div class=\"colab-df-container\">\n",
              "      <div>\n",
              "<style scoped>\n",
              "    .dataframe tbody tr th:only-of-type {\n",
              "        vertical-align: middle;\n",
              "    }\n",
              "\n",
              "    .dataframe tbody tr th {\n",
              "        vertical-align: top;\n",
              "    }\n",
              "\n",
              "    .dataframe thead th {\n",
              "        text-align: right;\n",
              "    }\n",
              "</style>\n",
              "<table border=\"1\" class=\"dataframe\">\n",
              "  <thead>\n",
              "    <tr style=\"text-align: right;\">\n",
              "      <th></th>\n",
              "      <th>book_rating</th>\n",
              "      <th>pages</th>\n",
              "      <th>awards_count</th>\n",
              "      <th>book_ratings_count</th>\n",
              "      <th>fiction</th>\n",
              "      <th>classic</th>\n",
              "      <th>movie_rating</th>\n",
              "      <th>movie_rating_cat</th>\n",
              "    </tr>\n",
              "  </thead>\n",
              "  <tbody>\n",
              "    <tr>\n",
              "      <th>0</th>\n",
              "      <td>4.33</td>\n",
              "      <td>374</td>\n",
              "      <td>41</td>\n",
              "      <td>6376780</td>\n",
              "      <td>1</td>\n",
              "      <td>0</td>\n",
              "      <td>7.2</td>\n",
              "      <td>1.0</td>\n",
              "    </tr>\n",
              "    <tr>\n",
              "      <th>1</th>\n",
              "      <td>4.50</td>\n",
              "      <td>870</td>\n",
              "      <td>9</td>\n",
              "      <td>2507623</td>\n",
              "      <td>1</td>\n",
              "      <td>1</td>\n",
              "      <td>7.5</td>\n",
              "      <td>1.0</td>\n",
              "    </tr>\n",
              "    <tr>\n",
              "      <th>2</th>\n",
              "      <td>4.26</td>\n",
              "      <td>279</td>\n",
              "      <td>1</td>\n",
              "      <td>2998241</td>\n",
              "      <td>1</td>\n",
              "      <td>1</td>\n",
              "      <td>5.1</td>\n",
              "      <td>0.0</td>\n",
              "    </tr>\n",
              "    <tr>\n",
              "      <th>3</th>\n",
              "      <td>3.60</td>\n",
              "      <td>501</td>\n",
              "      <td>25</td>\n",
              "      <td>4964519</td>\n",
              "      <td>1</td>\n",
              "      <td>0</td>\n",
              "      <td>6.2</td>\n",
              "      <td>0.0</td>\n",
              "    </tr>\n",
              "    <tr>\n",
              "      <th>4</th>\n",
              "      <td>3.60</td>\n",
              "      <td>501</td>\n",
              "      <td>25</td>\n",
              "      <td>4964519</td>\n",
              "      <td>1</td>\n",
              "      <td>0</td>\n",
              "      <td>5.2</td>\n",
              "      <td>0.0</td>\n",
              "    </tr>\n",
              "    <tr>\n",
              "      <th>5</th>\n",
              "      <td>4.24</td>\n",
              "      <td>312</td>\n",
              "      <td>1</td>\n",
              "      <td>38683</td>\n",
              "      <td>1</td>\n",
              "      <td>0</td>\n",
              "      <td>6.2</td>\n",
              "      <td>0.0</td>\n",
              "    </tr>\n",
              "    <tr>\n",
              "      <th>6</th>\n",
              "      <td>4.24</td>\n",
              "      <td>312</td>\n",
              "      <td>1</td>\n",
              "      <td>38683</td>\n",
              "      <td>1</td>\n",
              "      <td>0</td>\n",
              "      <td>5.2</td>\n",
              "      <td>0.0</td>\n",
              "    </tr>\n",
              "    <tr>\n",
              "      <th>7</th>\n",
              "      <td>4.32</td>\n",
              "      <td>320</td>\n",
              "      <td>1</td>\n",
              "      <td>21125</td>\n",
              "      <td>1</td>\n",
              "      <td>0</td>\n",
              "      <td>6.2</td>\n",
              "      <td>0.0</td>\n",
              "    </tr>\n",
              "    <tr>\n",
              "      <th>8</th>\n",
              "      <td>4.32</td>\n",
              "      <td>320</td>\n",
              "      <td>1</td>\n",
              "      <td>21125</td>\n",
              "      <td>1</td>\n",
              "      <td>0</td>\n",
              "      <td>5.2</td>\n",
              "      <td>0.0</td>\n",
              "    </tr>\n",
              "    <tr>\n",
              "      <th>9</th>\n",
              "      <td>3.94</td>\n",
              "      <td>224</td>\n",
              "      <td>1</td>\n",
              "      <td>2402</td>\n",
              "      <td>1</td>\n",
              "      <td>0</td>\n",
              "      <td>6.2</td>\n",
              "      <td>0.0</td>\n",
              "    </tr>\n",
              "  </tbody>\n",
              "</table>\n",
              "</div>\n",
              "      <button class=\"colab-df-convert\" onclick=\"convertToInteractive('df-37141e3d-3500-47c8-9b79-24b8037df4a0')\"\n",
              "              title=\"Convert this dataframe to an interactive table.\"\n",
              "              style=\"display:none;\">\n",
              "        \n",
              "  <svg xmlns=\"http://www.w3.org/2000/svg\" height=\"24px\"viewBox=\"0 0 24 24\"\n",
              "       width=\"24px\">\n",
              "    <path d=\"M0 0h24v24H0V0z\" fill=\"none\"/>\n",
              "    <path d=\"M18.56 5.44l.94 2.06.94-2.06 2.06-.94-2.06-.94-.94-2.06-.94 2.06-2.06.94zm-11 1L8.5 8.5l.94-2.06 2.06-.94-2.06-.94L8.5 2.5l-.94 2.06-2.06.94zm10 10l.94 2.06.94-2.06 2.06-.94-2.06-.94-.94-2.06-.94 2.06-2.06.94z\"/><path d=\"M17.41 7.96l-1.37-1.37c-.4-.4-.92-.59-1.43-.59-.52 0-1.04.2-1.43.59L10.3 9.45l-7.72 7.72c-.78.78-.78 2.05 0 2.83L4 21.41c.39.39.9.59 1.41.59.51 0 1.02-.2 1.41-.59l7.78-7.78 2.81-2.81c.8-.78.8-2.07 0-2.86zM5.41 20L4 18.59l7.72-7.72 1.47 1.35L5.41 20z\"/>\n",
              "  </svg>\n",
              "      </button>\n",
              "      \n",
              "  <style>\n",
              "    .colab-df-container {\n",
              "      display:flex;\n",
              "      flex-wrap:wrap;\n",
              "      gap: 12px;\n",
              "    }\n",
              "\n",
              "    .colab-df-convert {\n",
              "      background-color: #E8F0FE;\n",
              "      border: none;\n",
              "      border-radius: 50%;\n",
              "      cursor: pointer;\n",
              "      display: none;\n",
              "      fill: #1967D2;\n",
              "      height: 32px;\n",
              "      padding: 0 0 0 0;\n",
              "      width: 32px;\n",
              "    }\n",
              "\n",
              "    .colab-df-convert:hover {\n",
              "      background-color: #E2EBFA;\n",
              "      box-shadow: 0px 1px 2px rgba(60, 64, 67, 0.3), 0px 1px 3px 1px rgba(60, 64, 67, 0.15);\n",
              "      fill: #174EA6;\n",
              "    }\n",
              "\n",
              "    [theme=dark] .colab-df-convert {\n",
              "      background-color: #3B4455;\n",
              "      fill: #D2E3FC;\n",
              "    }\n",
              "\n",
              "    [theme=dark] .colab-df-convert:hover {\n",
              "      background-color: #434B5C;\n",
              "      box-shadow: 0px 1px 3px 1px rgba(0, 0, 0, 0.15);\n",
              "      filter: drop-shadow(0px 1px 2px rgba(0, 0, 0, 0.3));\n",
              "      fill: #FFFFFF;\n",
              "    }\n",
              "  </style>\n",
              "\n",
              "      <script>\n",
              "        const buttonEl =\n",
              "          document.querySelector('#df-37141e3d-3500-47c8-9b79-24b8037df4a0 button.colab-df-convert');\n",
              "        buttonEl.style.display =\n",
              "          google.colab.kernel.accessAllowed ? 'block' : 'none';\n",
              "\n",
              "        async function convertToInteractive(key) {\n",
              "          const element = document.querySelector('#df-37141e3d-3500-47c8-9b79-24b8037df4a0');\n",
              "          const dataTable =\n",
              "            await google.colab.kernel.invokeFunction('convertToInteractive',\n",
              "                                                     [key], {});\n",
              "          if (!dataTable) return;\n",
              "\n",
              "          const docLinkHtml = 'Like what you see? Visit the ' +\n",
              "            '<a target=\"_blank\" href=https://colab.research.google.com/notebooks/data_table.ipynb>data table notebook</a>'\n",
              "            + ' to learn more about interactive tables.';\n",
              "          element.innerHTML = '';\n",
              "          dataTable['output_type'] = 'display_data';\n",
              "          await google.colab.output.renderOutput(dataTable, element);\n",
              "          const docLink = document.createElement('div');\n",
              "          docLink.innerHTML = docLinkHtml;\n",
              "          element.appendChild(docLink);\n",
              "        }\n",
              "      </script>\n",
              "    </div>\n",
              "  </div>\n",
              "  "
            ]
          },
          "metadata": {},
          "execution_count": 20
        }
      ]
    },
    {
      "cell_type": "code",
      "source": [
        "# Defining variables\n",
        "train, test = train_test_split(adaptations_df, test_size = 0.3, random_state = 1)\n",
        "\n",
        "x_log = train[['awards_count', 'pages', 'book_ratings_count', 'fiction', 'classic']]\n",
        "y_log = train[['movie_rating_cat']]"
      ],
      "metadata": {
        "id": "9wQJV50XhcyW"
      },
      "execution_count": 21,
      "outputs": []
    },
    {
      "cell_type": "code",
      "source": [
        "#Accuracy of naive rule\n",
        "print(sum(test['movie_rating_cat']) / test.shape[0])"
      ],
      "metadata": {
        "colab": {
          "base_uri": "https://localhost:8080/"
        },
        "id": "UAPPBH1xPVlo",
        "outputId": "c4d28761-bf6e-4eda-acc7-1c299344849d"
      },
      "execution_count": 22,
      "outputs": [
        {
          "output_type": "stream",
          "name": "stdout",
          "text": [
            "0.5788690476190477\n"
          ]
        }
      ]
    },
    {
      "cell_type": "code",
      "source": [
        "# Running logistic regression on training data\n",
        "log = LogisticRegression(penalty=\"none\", solver='lbfgs')\n",
        "log.fit(x_log, y_log)"
      ],
      "metadata": {
        "colab": {
          "base_uri": "https://localhost:8080/",
          "height": 166
        },
        "id": "kWWfRt5JVmAw",
        "outputId": "7b3d090a-03f8-4799-e3ec-cb7666e4daba"
      },
      "execution_count": 23,
      "outputs": [
        {
          "output_type": "stream",
          "name": "stderr",
          "text": [
            "/usr/local/lib/python3.10/dist-packages/sklearn/linear_model/_logistic.py:1173: FutureWarning: `penalty='none'`has been deprecated in 1.2 and will be removed in 1.4. To keep the past behaviour, set `penalty=None`.\n",
            "  warnings.warn(\n",
            "/usr/local/lib/python3.10/dist-packages/sklearn/utils/validation.py:1143: DataConversionWarning: A column-vector y was passed when a 1d array was expected. Please change the shape of y to (n_samples, ), for example using ravel().\n",
            "  y = column_or_1d(y, warn=True)\n"
          ]
        },
        {
          "output_type": "execute_result",
          "data": {
            "text/plain": [
              "LogisticRegression(penalty='none')"
            ],
            "text/html": [
              "<style>#sk-container-id-1 {color: black;background-color: white;}#sk-container-id-1 pre{padding: 0;}#sk-container-id-1 div.sk-toggleable {background-color: white;}#sk-container-id-1 label.sk-toggleable__label {cursor: pointer;display: block;width: 100%;margin-bottom: 0;padding: 0.3em;box-sizing: border-box;text-align: center;}#sk-container-id-1 label.sk-toggleable__label-arrow:before {content: \"▸\";float: left;margin-right: 0.25em;color: #696969;}#sk-container-id-1 label.sk-toggleable__label-arrow:hover:before {color: black;}#sk-container-id-1 div.sk-estimator:hover label.sk-toggleable__label-arrow:before {color: black;}#sk-container-id-1 div.sk-toggleable__content {max-height: 0;max-width: 0;overflow: hidden;text-align: left;background-color: #f0f8ff;}#sk-container-id-1 div.sk-toggleable__content pre {margin: 0.2em;color: black;border-radius: 0.25em;background-color: #f0f8ff;}#sk-container-id-1 input.sk-toggleable__control:checked~div.sk-toggleable__content {max-height: 200px;max-width: 100%;overflow: auto;}#sk-container-id-1 input.sk-toggleable__control:checked~label.sk-toggleable__label-arrow:before {content: \"▾\";}#sk-container-id-1 div.sk-estimator input.sk-toggleable__control:checked~label.sk-toggleable__label {background-color: #d4ebff;}#sk-container-id-1 div.sk-label input.sk-toggleable__control:checked~label.sk-toggleable__label {background-color: #d4ebff;}#sk-container-id-1 input.sk-hidden--visually {border: 0;clip: rect(1px 1px 1px 1px);clip: rect(1px, 1px, 1px, 1px);height: 1px;margin: -1px;overflow: hidden;padding: 0;position: absolute;width: 1px;}#sk-container-id-1 div.sk-estimator {font-family: monospace;background-color: #f0f8ff;border: 1px dotted black;border-radius: 0.25em;box-sizing: border-box;margin-bottom: 0.5em;}#sk-container-id-1 div.sk-estimator:hover {background-color: #d4ebff;}#sk-container-id-1 div.sk-parallel-item::after {content: \"\";width: 100%;border-bottom: 1px solid gray;flex-grow: 1;}#sk-container-id-1 div.sk-label:hover label.sk-toggleable__label {background-color: #d4ebff;}#sk-container-id-1 div.sk-serial::before {content: \"\";position: absolute;border-left: 1px solid gray;box-sizing: border-box;top: 0;bottom: 0;left: 50%;z-index: 0;}#sk-container-id-1 div.sk-serial {display: flex;flex-direction: column;align-items: center;background-color: white;padding-right: 0.2em;padding-left: 0.2em;position: relative;}#sk-container-id-1 div.sk-item {position: relative;z-index: 1;}#sk-container-id-1 div.sk-parallel {display: flex;align-items: stretch;justify-content: center;background-color: white;position: relative;}#sk-container-id-1 div.sk-item::before, #sk-container-id-1 div.sk-parallel-item::before {content: \"\";position: absolute;border-left: 1px solid gray;box-sizing: border-box;top: 0;bottom: 0;left: 50%;z-index: -1;}#sk-container-id-1 div.sk-parallel-item {display: flex;flex-direction: column;z-index: 1;position: relative;background-color: white;}#sk-container-id-1 div.sk-parallel-item:first-child::after {align-self: flex-end;width: 50%;}#sk-container-id-1 div.sk-parallel-item:last-child::after {align-self: flex-start;width: 50%;}#sk-container-id-1 div.sk-parallel-item:only-child::after {width: 0;}#sk-container-id-1 div.sk-dashed-wrapped {border: 1px dashed gray;margin: 0 0.4em 0.5em 0.4em;box-sizing: border-box;padding-bottom: 0.4em;background-color: white;}#sk-container-id-1 div.sk-label label {font-family: monospace;font-weight: bold;display: inline-block;line-height: 1.2em;}#sk-container-id-1 div.sk-label-container {text-align: center;}#sk-container-id-1 div.sk-container {/* jupyter's `normalize.less` sets `[hidden] { display: none; }` but bootstrap.min.css set `[hidden] { display: none !important; }` so we also need the `!important` here to be able to override the default hidden behavior on the sphinx rendered scikit-learn.org. See: https://github.com/scikit-learn/scikit-learn/issues/21755 */display: inline-block !important;position: relative;}#sk-container-id-1 div.sk-text-repr-fallback {display: none;}</style><div id=\"sk-container-id-1\" class=\"sk-top-container\"><div class=\"sk-text-repr-fallback\"><pre>LogisticRegression(penalty=&#x27;none&#x27;)</pre><b>In a Jupyter environment, please rerun this cell to show the HTML representation or trust the notebook. <br />On GitHub, the HTML representation is unable to render, please try loading this page with nbviewer.org.</b></div><div class=\"sk-container\" hidden><div class=\"sk-item\"><div class=\"sk-estimator sk-toggleable\"><input class=\"sk-toggleable__control sk-hidden--visually\" id=\"sk-estimator-id-1\" type=\"checkbox\" checked><label for=\"sk-estimator-id-1\" class=\"sk-toggleable__label sk-toggleable__label-arrow\">LogisticRegression</label><div class=\"sk-toggleable__content\"><pre>LogisticRegression(penalty=&#x27;none&#x27;)</pre></div></div></div></div></div>"
            ]
          },
          "metadata": {},
          "execution_count": 23
        }
      ]
    },
    {
      "cell_type": "code",
      "source": [
        "# Make predictions on test data\n",
        "x_log_test = test[['awards_count', 'pages', 'book_ratings_count', 'fiction', 'classic']]\n",
        "y_log_pred = log.predict(x_log_test)"
      ],
      "metadata": {
        "id": "qwlXI3qch0HY"
      },
      "execution_count": 24,
      "outputs": []
    },
    {
      "cell_type": "code",
      "source": [
        "# Confusion matrix\n",
        "y_log_test = test[['movie_rating_cat']]\n",
        "confusion_matrix(y_log_test,y_log_pred)"
      ],
      "metadata": {
        "colab": {
          "base_uri": "https://localhost:8080/"
        },
        "id": "_rCK448fh7E6",
        "outputId": "64ec4100-8e1c-44fb-d05b-3a7345c9202a"
      },
      "execution_count": 25,
      "outputs": [
        {
          "output_type": "execute_result",
          "data": {
            "text/plain": [
              "array([[  0, 283],\n",
              "       [  0, 389]])"
            ]
          },
          "metadata": {},
          "execution_count": 25
        }
      ]
    },
    {
      "cell_type": "code",
      "source": [
        "# Accuracy\n",
        "accuracy_score(y_log_test, y_log_pred)"
      ],
      "metadata": {
        "colab": {
          "base_uri": "https://localhost:8080/"
        },
        "id": "it_fx3XvpCGA",
        "outputId": "ae2fe69f-6ba2-43d9-9a00-7a270bc61bed"
      },
      "execution_count": 26,
      "outputs": [
        {
          "output_type": "execute_result",
          "data": {
            "text/plain": [
              "0.5788690476190477"
            ]
          },
          "metadata": {},
          "execution_count": 26
        }
      ]
    },
    {
      "cell_type": "code",
      "source": [
        "# Alternative- using statspackage\n",
        "x_log_full = sm.add_constant(x_log)\n",
        "x_log_test_full = sm.add_constant(x_log_test)\n",
        "log2 = sm.Logit(y_log, x_log_full).fit()\n",
        "print(log2.params)\n",
        "print(log2.summary())"
      ],
      "metadata": {
        "colab": {
          "base_uri": "https://localhost:8080/"
        },
        "id": "0SaUPddUpd22",
        "outputId": "89e4cda1-f04a-4090-ed6e-e6fa1c00f3fe"
      },
      "execution_count": 27,
      "outputs": [
        {
          "output_type": "stream",
          "name": "stdout",
          "text": [
            "Optimization terminated successfully.\n",
            "         Current function value: 0.675293\n",
            "         Iterations 5\n",
            "const                 2.659604e-01\n",
            "awards_count          1.684800e-02\n",
            "pages                -4.439051e-04\n",
            "book_ratings_count    3.611770e-07\n",
            "fiction              -1.749694e-01\n",
            "classic               6.747729e-01\n",
            "dtype: float64\n",
            "                           Logit Regression Results                           \n",
            "==============================================================================\n",
            "Dep. Variable:       movie_rating_cat   No. Observations:                 1567\n",
            "Model:                          Logit   Df Residuals:                     1561\n",
            "Method:                           MLE   Df Model:                            5\n",
            "Date:                Sun, 28 May 2023   Pseudo R-squ.:                 0.02066\n",
            "Time:                        10:17:37   Log-Likelihood:                -1058.2\n",
            "converged:                       True   LL-Null:                       -1080.5\n",
            "Covariance Type:            nonrobust   LLR p-value:                 1.707e-08\n",
            "======================================================================================\n",
            "                         coef    std err          z      P>|z|      [0.025      0.975]\n",
            "--------------------------------------------------------------------------------------\n",
            "const                  0.2660      0.168      1.584      0.113      -0.063       0.595\n",
            "awards_count           0.0168      0.027      0.619      0.536      -0.036       0.070\n",
            "pages                 -0.0004      0.000     -1.474      0.140      -0.001       0.000\n",
            "book_ratings_count  3.612e-07   1.87e-07      1.926      0.054    -6.3e-09    7.29e-07\n",
            "fiction               -0.1750      0.148     -1.179      0.238      -0.466       0.116\n",
            "classic                0.6748      0.135      4.981      0.000       0.409       0.940\n",
            "======================================================================================\n"
          ]
        }
      ]
    },
    {
      "cell_type": "markdown",
      "source": [
        "## Predicting"
      ],
      "metadata": {
        "id": "7TiK5Gm7dbA3"
      }
    },
    {
      "cell_type": "code",
      "source": [
        "## Classifying a new novel\n",
        "new_novel = pd.DataFrame([\n",
        "{'awards_count': 0,\n",
        " 'pages': 0,\n",
        " 'book_ratings_count': 0,\n",
        " 'fiction': 0,\n",
        " 'classic': 0,\n",
        " }\n",
        " ])\n",
        "\n",
        "new_prediction = log.predict(new_novel)\n",
        "\n",
        "if new_prediction == 1: \n",
        "  print (\"Your book will be successful.\")\n",
        "else:\n",
        "  print (\"Your book will not be successful.\")\n",
        "\n",
        "## There's no saving this model. It's doomed."
      ],
      "metadata": {
        "colab": {
          "base_uri": "https://localhost:8080/"
        },
        "id": "zx8tvMQidXYD",
        "outputId": "28659771-dc10-4e17-8a98-f2a9e072809c"
      },
      "execution_count": 28,
      "outputs": [
        {
          "output_type": "stream",
          "name": "stdout",
          "text": [
            "Your book will be successful.\n"
          ]
        }
      ]
    }
  ]
}